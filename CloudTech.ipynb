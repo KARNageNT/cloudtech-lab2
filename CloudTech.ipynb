{
  "cells": [
    {
      "cell_type": "code",
      "execution_count": null,
      "id": "37dab42e",
      "metadata": {
        "id": "37dab42e",
        "outputId": "71251a27-69aa-4605-b541-cc203928268a"
      },
      "outputs": [
        {
          "name": "stdout",
          "output_type": "stream",
          "text": [
            "[28.2746, 28.1324, 27.9456, 27.8226, 27.75, 27.4674, 27.2275, 26.8867, 26.8928, 26.6175, 26.2767, 27.2142]\n",
            "[34.7396, 34.157, 33.8449, 32.629, 33.6427, 33.5116, 32.3463, 31.9239, 31.8317, 30.8231, 30.5953, 30.9221]\n"
          ]
        },
        {
          "data": {
            "image/png": "[encoded data removed]",
            "text/plain": [
              "<Figure size 432x288 with 1 Axes>"
            ]
          },
          "metadata": {
            "needs_background": "light"
          },
          "output_type": "display_data"
        }
      ],
      "source": [
        "import urllib.parse\n",
        "from urllib.request import urlopen\n",
        "import json\n",
        "import re\n",
        "import os\n",
        "import requests\n",
        "import csv\n",
        "from pprint import pprint\n",
        "from dynamodb_json import json_util as ujson\n",
        "import pandas as pd\n",
        "import numpy as np\n",
        "import matplotlib.pyplot as plt\n",
        "# pandas, matplotlib, dynamodb-json\n",
        "main_part = 'https://bank.gov.ua/NBUStatService/v1/statdirectory/exchangenew?json&'\n",
        "\n",
        "\n",
        "date = '20210001'\n",
        "\n",
        "data = []\n",
        "exchange_list = []\n",
        "n = 12\n",
        "for i in range(n):\n",
        "\n",
        "  # os.remove(f'exchange{i+1}.json')\n",
        "  date = str(int(date)+100)\n",
        "  url = main_part + urllib.parse.urlencode({'date':date})\n",
        "  # print(url)\n",
        "\n",
        "  response = requests.get(url)\n",
        "  json_list = response.json()\n",
        "  # json_data = json.loads(response.text)\n",
        "  # print(json_list == json_data)\n",
        "\n",
        "  data.append(json_list)\n",
        "  # json_string = json.dumps(json_list, ensure_ascii=False)\n",
        "  # dynamodb_json = ujson.dumps(json_list[0], ensure_ascii=False)\n",
        "  for i in range(len(json_list)):\n",
        "    if(json_list[i][\"cc\"] in (\"USD\", \"EUR\")):\n",
        "      # print(json_list[i])\n",
        "      record = {\n",
        "        \"PutRequest\": {\n",
        "            \"Item\": json.loads(ujson.dumps(json_list[i]))\n",
        "        }\n",
        "      }\n",
        "      exchange_list.append(record)\n",
        "\n",
        "exchange = {\"Exchange\" : exchange_list}\n",
        "\n",
        "with open('exchange.json', 'w') as json_file:\n",
        "  json_file.write(json.dumps(exchange, ensure_ascii=False, indent = 4))\n",
        "\n",
        "\n",
        "for i in range(n):\n",
        "  with open(f'exchange{i+1}.csv', 'w') as f:\n",
        "    writer = csv. DictWriter(f, data[0][0].keys())\n",
        "    writer.writeheader()\n",
        "\n",
        "    for currency in data[i]:\n",
        "      writer.writerow(currency)\n",
        "# print(json_data[0].keys())\n",
        "# print(data[0][0].keys())\n",
        "usd = []\n",
        "eur = []\n",
        "for i in range(n):\n",
        "  df = pd.read_csv(f'exchange{i+1}.csv', index_col = 'r030') \n",
        "  dollar = df[df['cc'] == 'USD']['rate']\n",
        "  usd.append(dollar.values[0])\n",
        "  euro = df[df['cc'] == 'EUR']['rate']\n",
        "  eur.append(euro.values[0])\n",
        "\n",
        "print(usd)\n",
        "print(eur)\n",
        "\n",
        "\n",
        "x = [i+1 for i in range(n)]\n",
        "y = np.array(usd)\n",
        "plt.plot(x, y, label='USD', color=\"green\")\n",
        "\n",
        "x = [i+1 for i in range(n)]\n",
        "z = np.array(eur)\n",
        "plt.plot(x, z, label='EUR', color=\"blue\")\n",
        "\n",
        "plt.title(\"Hrivnya exchange rates\")\n",
        "plt.legend()\n",
        "plt.xticks(np.arange(min(x), max(x)+1, 1.0))\n",
        "plt.yticks(np.arange(round(min(y)), round(max(z))+1, 1.0))\n",
        "plt.savefig('exchange_rates.png')\n",
        "plt.show()\n",
        "\n",
        "\n",
        "# import boto3\n",
        "# s3 = boto3.client('s3')\n",
        "# for i in range(0,12):\n",
        "#   s3.upload_file(f'exchange{i+1}.csv', 'cl0udbucket', f'exchange{i+1}.csv')\n",
        "\n",
        "# obj = s3.get_object(Bucket= 'cl0udbucket', Key= f'exchange{i+1}.csv') \n",
        "\n",
        "# initial_df = pd.read_csv(obj['Body'])"
      ]
    },
    {
      "cell_type": "code",
      "execution_count": null,
      "id": "56945fe7",
      "metadata": {
        "scrolled": true,
        "id": "56945fe7",
        "outputId": "56ec99e8-42dc-4f68-a798-be5b47e479b4"
      },
      "outputs": [
        {
          "name": "stdout",
          "output_type": "stream",
          "text": [
            "   r030                   txt     rate   cc exchangedate\n",
            "0    36  Австралійський долар  21.6852  AUD   01.01.2021\n",
            "1   124      Канадський долар  22.1154  CAD   01.01.2021\n",
            "2   156       Юань Женьміньбі   4.3333  CNY   01.01.2021\n",
            "3   191                  Куна   4.6037  HRK   01.01.2021\n",
            "4   203          Чеська крона   1.3238  CZK   01.01.2021\n",
            "   r030                   txt     rate   cc exchangedate\n",
            "0    36  Австралійський долар  21.5860  AUD   01.02.2021\n",
            "1   124      Канадський долар  22.0042  CAD   01.02.2021\n",
            "2   156       Юань Женьміньбі   4.3767  CNY   01.02.2021\n",
            "3   191                  Куна   4.5145  HRK   01.02.2021\n",
            "4   203          Чеська крона   1.3135  CZK   01.02.2021\n",
            "   r030                   txt     rate   cc exchangedate\n",
            "0    36  Австралійський долар  21.6732  AUD   01.03.2021\n",
            "1   124      Канадський долар  22.0827  CAD   01.03.2021\n",
            "2   156       Юань Женьміньбі   4.3220  CNY   01.03.2021\n",
            "3   191                  Куна   4.4642  HRK   01.03.2021\n",
            "4   203          Чеська крона   1.2914  CZK   01.03.2021\n",
            "   r030                   txt     rate   cc exchangedate\n",
            "0    36  Австралійський долар  21.1660  AUD   01.04.2021\n",
            "1   124      Канадський долар  22.0709  CAD   01.04.2021\n",
            "2   156       Юань Женьміньбі   4.2466  CNY   01.04.2021\n",
            "3   191                  Куна   4.3100  HRK   01.04.2021\n",
            "4   203          Чеська крона   1.2477  CZK   01.04.2021\n",
            "   r030                   txt     rate   cc exchangedate\n",
            "0    36  Австралійський долар  21.6242  AUD   01.05.2021\n",
            "1   124      Канадський долар  22.5812  CAD   01.05.2021\n",
            "2   156       Юань Женьміньбі   4.2887  CNY   01.05.2021\n",
            "3   191                  Куна   4.4529  HRK   01.05.2021\n",
            "4   203          Чеська крона   1.3028  CZK   01.05.2021\n",
            "   r030                   txt     rate   cc exchangedate\n",
            "0    36  Австралійський долар  21.2419  AUD   01.06.2021\n",
            "1   124      Канадський долар  22.7511  CAD   01.06.2021\n",
            "2   156       Юань Женьміньбі   4.3119  CNY   01.06.2021\n",
            "3   191                  Куна   4.4642  HRK   01.06.2021\n",
            "4   203          Чеська крона   1.3166  CZK   01.06.2021\n",
            "   r030                   txt     rate   cc exchangedate\n",
            "0    36  Австралійський долар  20.4111  AUD   01.07.2021\n",
            "1   124      Канадський долар  21.9887  CAD   01.07.2021\n",
            "2   156       Юань Женьміньбі   4.2162  CNY   01.07.2021\n",
            "3   191                  Куна   4.3180  HRK   01.07.2021\n",
            "4   203          Чеська крона   1.2693  CZK   01.07.2021\n",
            "   r030                   txt     rate   cc exchangedate\n",
            "0    36  Австралійський долар  19.8693  AUD   01.08.2021\n",
            "1   124      Канадський долар  21.5646  CAD   01.08.2021\n",
            "2   156       Юань Женьміньбі   4.1625  CNY   01.08.2021\n",
            "3   191                  Куна   4.2513  HRK   01.08.2021\n",
            "4   203          Чеська крона   1.2514  CZK   01.08.2021\n",
            "   r030                   txt     rate   cc exchangedate\n",
            "0    36  Австралійський долар  19.6949  AUD   01.09.2021\n",
            "1   124      Канадський долар  21.3749  CAD   01.09.2021\n",
            "2   156       Юань Женьміньбі   4.1622  CNY   01.09.2021\n",
            "3   191                  Куна   4.2496  HRK   01.09.2021\n",
            "4   203          Чеська крона   1.2483  CZK   01.09.2021\n",
            "   r030                   txt     rate   cc exchangedate\n",
            "0    36  Австралійський долар  19.1540  AUD   01.10.2021\n",
            "1   124      Канадський долар  20.9019  CAD   01.10.2021\n",
            "2   156       Юань Женьміньбі   4.1178  CNY   01.10.2021\n",
            "3   191                  Куна   4.1158  HRK   01.10.2021\n",
            "4   203          Чеська крона   1.2097  CZK   01.10.2021\n",
            "   r030                   txt     rate   cc exchangedate\n",
            "0    36  Австралійський долар  19.7942  AUD   01.11.2021\n",
            "1   124      Канадський долар  21.2707  CAD   01.11.2021\n",
            "2   156       Юань Женьміньбі   4.1081  CNY   01.11.2021\n",
            "3   191                  Куна   4.0651  HRK   01.11.2021\n",
            "4   203          Чеська крона   1.1915  CZK   01.11.2021\n",
            "   r030                   txt     rate   cc exchangedate\n",
            "0    36  Австралійський долар  19.4527  AUD   01.12.2021\n",
            "1   124      Канадський долар  21.2877  CAD   01.12.2021\n",
            "2   156       Юань Женьміньбі   4.2715  CNY   01.12.2021\n",
            "3   191                  Куна   4.1061  HRK   01.12.2021\n",
            "4   203          Чеська крона   1.2113  CZK   01.12.2021\n"
          ]
        }
      ],
      "source": [
        "import boto3\n",
        "import pandas as pd\n",
        "s3 = boto3.client('s3')\n",
        "for i in range(0,12):\n",
        "    obj = s3.get_object(Bucket= 'cl0udbucket', Key= f'exchange{i+1}.csv') \n",
        "    df = pd.read_csv(obj['Body'])\n",
        "    print(df.head())"
      ]
    },
    {
      "cell_type": "code",
      "execution_count": null,
      "id": "e57cef77",
      "metadata": {
        "id": "e57cef77",
        "outputId": "5fb11778-3aa0-4818-b32c-eb4bffca304b"
      },
      "outputs": [
        {
          "name": "stdout",
          "output_type": "stream",
          "text": [
            "dynamodb.Table(name='ExchangeRatesSDK')\n"
          ]
        }
      ],
      "source": [
        "import boto3\n",
        "dynamodb = boto3.resource('dynamodb')\n",
        "\n",
        "table = dynamodb.create_table (\n",
        "    TableName = 'ExchangeRatesSDK',\n",
        "       KeySchema = [\n",
        "           {\n",
        "               'AttributeName': 'cc',\n",
        "               'KeyType': 'HASH'\n",
        "           },\n",
        "           {\n",
        "               'AttributeName': 'exchangedate',\n",
        "               'KeyType': 'RANGE'\n",
        "           }\n",
        "           ],\n",
        "           AttributeDefinitions = [\n",
        "               {\n",
        "                   'AttributeName': 'cc',\n",
        "                   'AttributeType': 'S'\n",
        "               },\n",
        "               {\n",
        "                   'AttributeName':'exchangedate',\n",
        "                   'AttributeType': 'S'\n",
        "               }\n",
        "            ],\n",
        "            ProvisionedThroughput={\n",
        "                'ReadCapacityUnits':1,\n",
        "                'WriteCapacityUnits':1\n",
        "            }\n",
        "          \n",
        "    )\n",
        "print(table)"
      ]
    },
    {
      "cell_type": "code",
      "execution_count": null,
      "id": "06870de4",
      "metadata": {
        "id": "06870de4",
        "outputId": "7e9e7bf5-b598-4de0-d687-e3523981836f"
      },
      "outputs": [
        {
          "name": "stdout",
          "output_type": "stream",
          "text": [
            "{'ResponseMetadata': {'HTTPHeaders': {'connection': 'keep-alive',\n",
            "                                      'content-length': '2',\n",
            "                                      'content-type': 'application/x-amz-json-1.0',\n",
            "                                      'date': 'Sun, 10 Apr 2022 11:58:06 GMT',\n",
            "                                      'server': 'Server',\n",
            "                                      'x-amz-crc32': '2745614147',\n",
            "                                      'x-amzn-requestid': '4GIC728IIAOA8LHBLSPKQKE6K3VV4KQNSO5AEMVJF66Q9ASUAAJG'},\n",
            "                      'HTTPStatusCode': 200,\n",
            "                      'RequestId': '4GIC728IIAOA8LHBLSPKQKE6K3VV4KQNSO5AEMVJF66Q9ASUAAJG',\n",
            "                      'RetryAttempts': 0}}\n"
          ]
        }
      ],
      "source": [
        "from pprint import pprint\n",
        "table = dynamodb.Table('ExchangeRatesSDK')\n",
        "response = table.put_item(\n",
        "Item = { \n",
        "     'r030': 36,\n",
        "     'txt': 'Австралійський долар',\n",
        "     'rate': '21.6852',\n",
        "     'cc': 'AUD',\n",
        "     'exchangedate': '01.01.2021'\n",
        "       }\n",
        ")\n",
        "pprint(response)"
      ]
    },
    {
      "cell_type": "code",
      "execution_count": null,
      "id": "ac16e125",
      "metadata": {
        "id": "ac16e125",
        "outputId": "95d8b7cc-39f2-4d2a-dece-d1f1ed6a0ac0"
      },
      "outputs": [
        {
          "name": "stdout",
          "output_type": "stream",
          "text": [
            "<boto3.dynamodb.table.BatchWriter object at 0x7f52f8fdb1c0>\n"
          ]
        }
      ],
      "source": [
        "import boto3\n",
        "import csv\n",
        "\n",
        "s3 = boto3.client('s3')\n",
        "items = []\n",
        "for i in range(0,12):\n",
        "    obj = s3.get_object(Bucket= 'cl0udbucket', Key= f'exchange{i+1}.csv') \n",
        "    lines =obj['Body'].read().decode('utf-8').splitlines(True)\n",
        "    reader = csv.DictReader(lines)\n",
        "    for row in reader:\n",
        "      if row['cc'] in (\"USD\", \"EUR\"):\n",
        "        data = {}\n",
        "        data['r030'] = row['r030']\n",
        "        data['txt'] = row['txt']\n",
        "        data['rate'] = row['rate']\n",
        "        data['cc'] = row['cc']\n",
        "        data['exchangedate'] = row['exchangedate']\n",
        "        items.append(data)\n",
        "\n",
        "dynamodb = boto3.resource('dynamodb')\n",
        "table = dynamodb.Table('ExchangeRatesSDK')\n",
        "with table.batch_writer() as batch:\n",
        "      for item in items:\n",
        "         batch.put_item(Item=item)\n",
        "print(batch)"
      ]
    },
    {
      "cell_type": "code",
      "execution_count": null,
      "id": "b8e461c0",
      "metadata": {
        "scrolled": true,
        "id": "b8e461c0",
        "outputId": "6e7b28f7-114a-4bc6-dd8b-bf7b55bbe086"
      },
      "outputs": [
        {
          "name": "stdout",
          "output_type": "stream",
          "text": [
            "The number of returned items:  12\n",
            "The query returned the following items:\n",
            "{'cc': 'EUR',\n",
            " 'exchangedate': '01.01.2021',\n",
            " 'r030': '978',\n",
            " 'rate': '34.7396',\n",
            " 'txt': 'Євро'}\n",
            "{'cc': 'EUR',\n",
            " 'exchangedate': '01.02.2021',\n",
            " 'r030': '978',\n",
            " 'rate': '34.157',\n",
            " 'txt': 'Євро'}\n",
            "{'cc': 'EUR',\n",
            " 'exchangedate': '01.03.2021',\n",
            " 'r030': '978',\n",
            " 'rate': '33.8449',\n",
            " 'txt': 'Євро'}\n",
            "{'cc': 'EUR',\n",
            " 'exchangedate': '01.04.2021',\n",
            " 'r030': '978',\n",
            " 'rate': '32.629',\n",
            " 'txt': 'Євро'}\n",
            "{'cc': 'EUR',\n",
            " 'exchangedate': '01.05.2021',\n",
            " 'r030': '978',\n",
            " 'rate': '33.6427',\n",
            " 'txt': 'Євро'}\n",
            "{'cc': 'EUR',\n",
            " 'exchangedate': '01.06.2021',\n",
            " 'r030': '978',\n",
            " 'rate': '33.5116',\n",
            " 'txt': 'Євро'}\n",
            "{'cc': 'EUR',\n",
            " 'exchangedate': '01.07.2021',\n",
            " 'r030': '978',\n",
            " 'rate': '32.3463',\n",
            " 'txt': 'Євро'}\n",
            "{'cc': 'EUR',\n",
            " 'exchangedate': '01.08.2021',\n",
            " 'r030': '978',\n",
            " 'rate': '31.9239',\n",
            " 'txt': 'Євро'}\n",
            "{'cc': 'EUR',\n",
            " 'exchangedate': '01.09.2021',\n",
            " 'r030': '978',\n",
            " 'rate': '31.8317',\n",
            " 'txt': 'Євро'}\n",
            "{'cc': 'EUR',\n",
            " 'exchangedate': '01.10.2021',\n",
            " 'r030': '978',\n",
            " 'rate': '30.8231',\n",
            " 'txt': 'Євро'}\n",
            "{'cc': 'EUR',\n",
            " 'exchangedate': '01.11.2021',\n",
            " 'r030': '978',\n",
            " 'rate': '30.5953',\n",
            " 'txt': 'Євро'}\n",
            "{'cc': 'EUR',\n",
            " 'exchangedate': '01.12.2021',\n",
            " 'r030': '978',\n",
            " 'rate': '30.9221',\n",
            " 'txt': 'Євро'}\n"
          ]
        }
      ],
      "source": [
        "import boto3\n",
        "from boto3.dynamodb.conditions import Key\n",
        "from pprint import pprint\n",
        "\n",
        "dynamodb = boto3.resource('dynamodb')\n",
        "table = dynamodb.Table('ExchangeRatesSDK')\n",
        "\n",
        "response = table.query(KeyConditionExpression=Key('cc').eq('EUR'))\n",
        "\n",
        "print(\"The number of returned items: \", len(response['Items']))\n",
        "print(\"The query returned the following items:\")\n",
        "for item in response['Items']:\n",
        "    pprint(item)"
      ]
    },
    {
      "cell_type": "code",
      "execution_count": null,
      "id": "af383850",
      "metadata": {
        "id": "af383850",
        "outputId": "429f78be-3b1d-445d-e250-b2dfd8269978"
      },
      "outputs": [
        {
          "name": "stdout",
          "output_type": "stream",
          "text": [
            "The number of returned items:  3\n",
            "The query returned the following items:\n",
            "{'cc': 'EUR',\n",
            " 'exchangedate': '01.01.2021',\n",
            " 'r030': '978',\n",
            " 'rate': '34.7396',\n",
            " 'txt': 'Євро'}\n",
            "{'cc': 'USD',\n",
            " 'exchangedate': '01.01.2021',\n",
            " 'r030': '840',\n",
            " 'rate': '28.2746',\n",
            " 'txt': 'Долар США'}\n",
            "{'cc': 'AUD',\n",
            " 'exchangedate': '01.01.2021',\n",
            " 'r030': Decimal('36'),\n",
            " 'rate': '21.6852',\n",
            " 'txt': 'Австралійський долар'}\n"
          ]
        }
      ],
      "source": [
        "import boto3\n",
        "from boto3.dynamodb.conditions import Key, Attr\n",
        "from pprint import pprint\n",
        "\n",
        "dynamodb = boto3.resource('dynamodb')\n",
        "table = dynamodb.Table('ExchangeRatesSDK')\n",
        "\n",
        "response = table.scan(FilterExpression=Attr('exchangedate').eq('01.01.2021'))\n",
        "\n",
        "print(\"The number of returned items: \", len(response['Items']))\n",
        "print(\"The query returned the following items:\")\n",
        "for item in response['Items']:\n",
        "    pprint(item)"
      ]
    },
    {
      "cell_type": "code",
      "execution_count": null,
      "id": "400eff1c",
      "metadata": {
        "id": "400eff1c",
        "outputId": "2c788481-a771-4c95-8c3e-a83f45b0f57a"
      },
      "outputs": [
        {
          "name": "stdout",
          "output_type": "stream",
          "text": [
            "{'ResponseMetadata': {'HTTPHeaders': {'connection': 'keep-alive',\n",
            "                                      'content-length': '2',\n",
            "                                      'content-type': 'application/x-amz-json-1.0',\n",
            "                                      'date': 'Sun, 10 Apr 2022 11:58:16 GMT',\n",
            "                                      'server': 'Server',\n",
            "                                      'x-amz-crc32': '2745614147',\n",
            "                                      'x-amzn-requestid': 'SK0KSU6HO2HD8MUL49QL7ABVS3VV4KQNSO5AEMVJF66Q9ASUAAJG'},\n",
            "                      'HTTPStatusCode': 200,\n",
            "                      'RequestId': 'SK0KSU6HO2HD8MUL49QL7ABVS3VV4KQNSO5AEMVJF66Q9ASUAAJG',\n",
            "                      'RetryAttempts': 0}}\n"
          ]
        }
      ],
      "source": [
        "import boto3\n",
        "from pprint import pprint\n",
        "\n",
        "dynamodb = boto3.resource('dynamodb')\n",
        "table = dynamodb.Table('ExchangeRatesSDK')\n",
        "\n",
        "response = table.delete_item(Key = {'cc': 'AUD', 'exchangedate': '01.01.2021'})\n",
        "\n",
        "pprint(response)"
      ]
    },
    {
      "cell_type": "code",
      "execution_count": null,
      "id": "8a510551",
      "metadata": {
        "id": "8a510551"
      },
      "outputs": [],
      "source": [
        ""
      ]
    }
  ],
  "metadata": {
    "kernelspec": {
      "display_name": "Python 3 (ipykernel)",
      "language": "python",
      "name": "python3"
    },
    "language_info": {
      "codemirror_mode": {
        "name": "ipython",
        "version": 3
      },
      "file_extension": ".py",
      "mimetype": "text/x-python",
      "name": "python",
      "nbconvert_exporter": "python",
      "pygments_lexer": "ipython3",
      "version": "3.9.7"
    },
    "colab": {
      "name": "CloudTech.ipynb",
      "provenance": []
    }
  },
  "nbformat": 4,
  "nbformat_minor": 5
}